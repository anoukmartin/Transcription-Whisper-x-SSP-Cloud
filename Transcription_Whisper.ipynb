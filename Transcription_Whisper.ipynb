{
 "cells": [
  {
   "cell_type": "markdown",
   "id": "80d9067d-9433-4fb5-95ab-2b7fb06ab40c",
   "metadata": {},
   "source": [
    "# Transcription d'un audio avec Whisper"
   ]
  },
  {
   "cell_type": "markdown",
   "id": "8a8b3dd6-c46e-402b-b986-cc64c62d7540",
   "metadata": {},
   "source": [
    "## 1. Charger le fichier audio à retranscrire\n",
    "Charger le ou les fichier audio à retranscrire. Le fichier doit être au format .mp3 ou .wav. Il devrait apparaître dans la liste de la partie gauche de l'écran."
   ]
  },
  {
   "cell_type": "markdown",
   "id": "935f6cf3-27a3-436f-8da9-f1b2f9b56e41",
   "metadata": {},
   "source": [
    "## 2. Demander à Whisper de retranscrire un audio\n",
    "Executer la ligne de code ci-dessous :\n",
    "- `\"mon_enregistrement_audio.mp3\"` indique le nom du fichier audio. A adapter en fonction du nom de votre fichier.\n",
    "- `--model large-v2` signifie que l'on souhaite utiliser le modèle le plus lourd et précis.\n",
    "- `--language French` signifie que l'entretien est en français.\n",
    "> Pour connaître les autres options disponibles, consulter le dépot Github d'OpenAI : https://github.com/openai/whisper/tree/main\n",
    "\n",
    "\n",
    "Cliquer sur le petit bouton \"play\". Le chargement du modèle va alors commencer, cela peut prendre un certain temps. Une fois terminé la transcription va démmarer. "
   ]
  },
  {
   "cell_type": "code",
   "execution_count": null,
   "id": "386c7d4b-d3e3-4399-a330-cc552629cac3",
   "metadata": {},
   "outputs": [],
   "source": [
    "!whisper \"mon_enregistrement_audio.mp3\" --model large-v2 --language French"
   ]
  },
  {
   "cell_type": "markdown",
   "id": "20120bc7-31b9-41ab-93bc-34692344cc55",
   "metadata": {},
   "source": [
    "## 3. Télécharger la transcription de votre fichier audio \n",
    "Lorsque celle-ci est finie, plusieurs fichiers apparaissent dans la partie gauche de l'écran. Ils portent tous le nom de votre audio et sont de formats différents. Le fichier de format texte (.txt) contient la transcription de l'enregistrement. Pour le télécharger : clic droit sur celui-ci > download"
   ]
  }
 ],
 "metadata": {
  "kernelspec": {
   "display_name": "Python 3 (ipykernel)",
   "language": "python",
   "name": "python3"
  },
  "language_info": {
   "codemirror_mode": {
    "name": "ipython",
    "version": 3
   },
   "file_extension": ".py",
   "mimetype": "text/x-python",
   "name": "python",
   "nbconvert_exporter": "python",
   "pygments_lexer": "ipython3",
   "version": "3.11.4"
  }
 },
 "nbformat": 4,
 "nbformat_minor": 5
}
