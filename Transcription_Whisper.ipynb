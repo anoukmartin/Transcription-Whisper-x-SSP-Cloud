{
 "cells": [
  {
   "cell_type": "markdown",
   "id": "80d9067d-9433-4fb5-95ab-2b7fb06ab40c",
   "metadata": {},
   "source": [
    "# 1. Charger le(s) fichier(s) audio à retranscrire\n",
    "Dans la partie gauche de l'écran, le fichier .mp3 ou .wav doit apparaître dans la liste.\n",
    "# 2. Demander à Whisper de retranscrire un audio\n",
    "- `\"mon_enregistrement_audio.mp3\"` indique le nom du fichier audio. A adapter en fonction du nom de votre fichier.\n",
    "- `--model large-v2` signifie que l'on souhaite utiliser le modèle le plus lourd et précis.\n",
    "- `--language French` signfie que l'entretien est en français."
   ]
  },
  {
   "cell_type": "code",
   "execution_count": null,
   "id": "386c7d4b-d3e3-4399-a330-cc552629cac3",
   "metadata": {},
   "outputs": [],
   "source": [
    "!whisper \"mon_enregistrement_audio.mp3\" --model large-v2 --language French"
   ]
  }
 ],
 "metadata": {
  "kernelspec": {
   "display_name": "Python 3 (ipykernel)",
   "language": "python",
   "name": "python3"
  },
  "language_info": {
   "codemirror_mode": {
    "name": "ipython",
    "version": 3
   },
   "file_extension": ".py",
   "mimetype": "text/x-python",
   "name": "python",
   "nbconvert_exporter": "python",
   "pygments_lexer": "ipython3",
   "version": "3.11.4"
  }
 },
 "nbformat": 4,
 "nbformat_minor": 5
}
